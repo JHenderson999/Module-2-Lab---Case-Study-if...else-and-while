{
 "cells": [
  {
   "cell_type": "markdown",
   "id": "65854337-c753-4da4-8c7f-c2e53e4d8cdf",
   "metadata": {},
   "source": [
    "# Author: Justin Henderson\n",
    "# Program Name: Student GPA Evaluator\n",
    "# Program Description: This program has the user input a student's first and last name as well as their GPA. Then, the program tests to see if the student qualifies for the Dean's List or the Honor Roll."
   ]
  },
  {
   "cell_type": "code",
   "execution_count": 4,
   "id": "6574e296-6958-4302-b627-ab794ed5b49a",
   "metadata": {},
   "outputs": [
    {
     "name": "stdin",
     "output_type": "stream",
     "text": [
      "Enter the student's last name (or 'ZZZ' to quit):  Rodriguez\n",
      "Enter the student's first name:  Hova\n",
      "Enter the student's GPA:  2.34\n"
     ]
    },
    {
     "name": "stdout",
     "output_type": "stream",
     "text": [
      "Hova Rodriguez did not qualify for Dean's List or Honor Roll.\n"
     ]
    },
    {
     "name": "stdin",
     "output_type": "stream",
     "text": [
      "Enter the student's last name (or 'ZZZ' to quit):  Reed\n",
      "Enter the student's first name:  Danny\n",
      "Enter the student's GPA:  3.26\n"
     ]
    },
    {
     "name": "stdout",
     "output_type": "stream",
     "text": [
      "Danny Reed has made the Honor Roll.\n"
     ]
    },
    {
     "name": "stdin",
     "output_type": "stream",
     "text": [
      "Enter the student's last name (or 'ZZZ' to quit):  Bear\n",
      "Enter the student's first name:  Panda\n",
      "Enter the student's GPA:  3.5\n"
     ]
    },
    {
     "name": "stdout",
     "output_type": "stream",
     "text": [
      "Panda Bear has made the Dean's list.\n"
     ]
    },
    {
     "name": "stdin",
     "output_type": "stream",
     "text": [
      "Enter the student's last name (or 'ZZZ' to quit):  Bear\n",
      "Enter the student's first name:  Teddy\n",
      "Enter the student's GPA:  3.65\n"
     ]
    },
    {
     "name": "stdout",
     "output_type": "stream",
     "text": [
      "Teddy Bear has made the Dean's list.\n"
     ]
    },
    {
     "name": "stdin",
     "output_type": "stream",
     "text": [
      "Enter the student's last name (or 'ZZZ' to quit):  Crush\n",
      "Enter the student's first name:  Candy\n",
      "Enter the student's GPA:  1.23\n"
     ]
    },
    {
     "name": "stdout",
     "output_type": "stream",
     "text": [
      "Candy Crush did not qualify for Dean's List or Honor Roll.\n"
     ]
    },
    {
     "name": "stdin",
     "output_type": "stream",
     "text": [
      "Enter the student's last name (or 'ZZZ' to quit):  ZZZ\n"
     ]
    }
   ],
   "source": [
    "def main(): # defines the main function\n",
    "    while True: # provides an input and exit condition for each students last name entered\n",
    "        last_name = input(\"Enter the student's last name (or 'ZZZ' to quit): \") # allows the user to input the students last name\n",
    "        if last_name == 'ZZZ': # allows the user to end the program with specified input\n",
    "            break # ends the first conditional statement \n",
    "\n",
    "        first_name = input(\"Enter the student's first name: \") # allows the user to input the students first name\n",
    "        gpa = float(input(\"Enter the student's GPA: \")) # allows the user to enter a floating point grade point average for each student entered\n",
    "\n",
    "        if gpa >= 3.5: # evaluates input grade point averages greater than or equal to 3.5\n",
    "            print(f\"{first_name} {last_name} has made the Dean's list.\") # prints the students first and last name for the Dean's list if GPA >= 3.5\n",
    "        elif gpa >= 3.25: # \"if GPA is greater than or equal to 3.25\"\n",
    "            print(f\"{first_name} {last_name} has made the Honor Roll.\") # prints the students first and last name for the Honor Roll if GPA >= 3.25\n",
    "        else: # \"if GPA is less than either of these grade standards\"\n",
    "            print(f\"{first_name} {last_name} did not qualify for Dean's List or Honor Roll.\") # outputs statement if students GPA is less than 3.25\n",
    "main() #calls back upon the main function, ending the program"
   ]
  },
  {
   "cell_type": "code",
   "execution_count": null,
   "id": "f4a0542e-fc0f-4ecc-b21d-1c59d4944895",
   "metadata": {},
   "outputs": [],
   "source": []
  }
 ],
 "metadata": {
  "kernelspec": {
   "display_name": "Python 3 (ipykernel)",
   "language": "python",
   "name": "python3"
  },
  "language_info": {
   "codemirror_mode": {
    "name": "ipython",
    "version": 3
   },
   "file_extension": ".py",
   "mimetype": "text/x-python",
   "name": "python",
   "nbconvert_exporter": "python",
   "pygments_lexer": "ipython3",
   "version": "3.12.7"
  }
 },
 "nbformat": 4,
 "nbformat_minor": 5
}
